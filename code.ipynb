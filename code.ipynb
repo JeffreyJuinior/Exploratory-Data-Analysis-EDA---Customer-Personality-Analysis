{
 "cells": [
  {
   "cell_type": "markdown",
   "metadata": {},
   "source": [
    "# Exploratory Data Analysis (EDA) - Customer Personality Analysis\n",
    "by : Jeffrey Junior T"
   ]
  },
  {
   "cell_type": "markdown",
   "metadata": {},
   "source": [
    "# Latar Belakang\n",
    "\n",
    "Electronic commerce (e-commerce) mengacu pada perusahaan dan individu yang melakukan transaksi jual beli barang atau jasa melalui Internet.\n",
    "\n",
    "Source :\n",
    "https://www.investopedia.com/terms/e/ecommerce.asp\n",
    "\n",
    "Segmentasi adalah membagi pelanggan ke dalam berbagai cara, seperti berdasarkan demografi, perilaku, gaya hidup, dan lain-lain.\n",
    "Manfaat segmentasi pelanggan dalam pemasaran adalah kita dapat menargetkan orang yang tepat dengan pesan yang tepat tentang produk Anda. Hal ini akan meningkatkan keberhasilan kampanye pemasaran.\n",
    "\n",
    "Source :\n",
    "https://www.emerald.com/insight/content/doi/10.1108/SJME-06-2019-0036/full/pdf\n"
   ]
  },
  {
   "cell_type": "markdown",
   "metadata": {},
   "source": [
    "# Define Problem\n",
    "\n",
    "Menambah customer dengan melakukan segmentasi berdasarkan perilaku"
   ]
  },
  {
   "cell_type": "markdown",
   "metadata": {},
   "source": [
    "# Business Goals\n",
    "\n",
    "Melakukan segmentasi customer agar pemasaran tepat sasaran"
   ]
  },
  {
   "cell_type": "markdown",
   "metadata": {},
   "source": [
    "# Data Collection"
   ]
  },
  {
   "cell_type": "code",
   "execution_count": 2,
   "metadata": {},
   "outputs": [],
   "source": [
    "import pandas as pd\n",
    "import numpy as np\n",
    "import seaborn as sns\n",
    "import matplotlib.pyplot as plt\n",
    "from scipy.stats import kruskal\n",
    "from scipy.stats import mannwhitneyu"
   ]
  },
  {
   "cell_type": "code",
   "execution_count": 3,
   "metadata": {},
   "outputs": [],
   "source": [
    "df = pd.read_excel('marketing_campaign.xlsx')"
   ]
  },
  {
   "cell_type": "code",
   "execution_count": 4,
   "metadata": {},
   "outputs": [
    {
     "data": {
      "text/html": [
       "<div>\n",
       "<style scoped>\n",
       "    .dataframe tbody tr th:only-of-type {\n",
       "        vertical-align: middle;\n",
       "    }\n",
       "\n",
       "    .dataframe tbody tr th {\n",
       "        vertical-align: top;\n",
       "    }\n",
       "\n",
       "    .dataframe thead th {\n",
       "        text-align: right;\n",
       "    }\n",
       "</style>\n",
       "<table border=\"1\" class=\"dataframe\">\n",
       "  <thead>\n",
       "    <tr style=\"text-align: right;\">\n",
       "      <th></th>\n",
       "      <th>ID</th>\n",
       "      <th>Year_Birth</th>\n",
       "      <th>Education</th>\n",
       "      <th>Marital_Status</th>\n",
       "      <th>Income</th>\n",
       "      <th>Kidhome</th>\n",
       "      <th>Teenhome</th>\n",
       "      <th>Dt_Customer</th>\n",
       "      <th>Recency</th>\n",
       "      <th>MntWines</th>\n",
       "      <th>...</th>\n",
       "      <th>NumWebVisitsMonth</th>\n",
       "      <th>AcceptedCmp3</th>\n",
       "      <th>AcceptedCmp4</th>\n",
       "      <th>AcceptedCmp5</th>\n",
       "      <th>AcceptedCmp1</th>\n",
       "      <th>AcceptedCmp2</th>\n",
       "      <th>Complain</th>\n",
       "      <th>Z_CostContact</th>\n",
       "      <th>Z_Revenue</th>\n",
       "      <th>Response</th>\n",
       "    </tr>\n",
       "  </thead>\n",
       "  <tbody>\n",
       "    <tr>\n",
       "      <th>0</th>\n",
       "      <td>5524</td>\n",
       "      <td>1957</td>\n",
       "      <td>Graduation</td>\n",
       "      <td>Single</td>\n",
       "      <td>58138.0</td>\n",
       "      <td>0</td>\n",
       "      <td>0</td>\n",
       "      <td>04-09-2012</td>\n",
       "      <td>58</td>\n",
       "      <td>635</td>\n",
       "      <td>...</td>\n",
       "      <td>7</td>\n",
       "      <td>0</td>\n",
       "      <td>0</td>\n",
       "      <td>0</td>\n",
       "      <td>0</td>\n",
       "      <td>0</td>\n",
       "      <td>0</td>\n",
       "      <td>3</td>\n",
       "      <td>11</td>\n",
       "      <td>1</td>\n",
       "    </tr>\n",
       "    <tr>\n",
       "      <th>1</th>\n",
       "      <td>2174</td>\n",
       "      <td>1954</td>\n",
       "      <td>Graduation</td>\n",
       "      <td>Single</td>\n",
       "      <td>46344.0</td>\n",
       "      <td>1</td>\n",
       "      <td>1</td>\n",
       "      <td>08-03-2014</td>\n",
       "      <td>38</td>\n",
       "      <td>11</td>\n",
       "      <td>...</td>\n",
       "      <td>5</td>\n",
       "      <td>0</td>\n",
       "      <td>0</td>\n",
       "      <td>0</td>\n",
       "      <td>0</td>\n",
       "      <td>0</td>\n",
       "      <td>0</td>\n",
       "      <td>3</td>\n",
       "      <td>11</td>\n",
       "      <td>0</td>\n",
       "    </tr>\n",
       "    <tr>\n",
       "      <th>2</th>\n",
       "      <td>4141</td>\n",
       "      <td>1965</td>\n",
       "      <td>Graduation</td>\n",
       "      <td>Together</td>\n",
       "      <td>71613.0</td>\n",
       "      <td>0</td>\n",
       "      <td>0</td>\n",
       "      <td>21-08-2013</td>\n",
       "      <td>26</td>\n",
       "      <td>426</td>\n",
       "      <td>...</td>\n",
       "      <td>4</td>\n",
       "      <td>0</td>\n",
       "      <td>0</td>\n",
       "      <td>0</td>\n",
       "      <td>0</td>\n",
       "      <td>0</td>\n",
       "      <td>0</td>\n",
       "      <td>3</td>\n",
       "      <td>11</td>\n",
       "      <td>0</td>\n",
       "    </tr>\n",
       "    <tr>\n",
       "      <th>3</th>\n",
       "      <td>6182</td>\n",
       "      <td>1984</td>\n",
       "      <td>Graduation</td>\n",
       "      <td>Together</td>\n",
       "      <td>26646.0</td>\n",
       "      <td>1</td>\n",
       "      <td>0</td>\n",
       "      <td>10-02-2014</td>\n",
       "      <td>26</td>\n",
       "      <td>11</td>\n",
       "      <td>...</td>\n",
       "      <td>6</td>\n",
       "      <td>0</td>\n",
       "      <td>0</td>\n",
       "      <td>0</td>\n",
       "      <td>0</td>\n",
       "      <td>0</td>\n",
       "      <td>0</td>\n",
       "      <td>3</td>\n",
       "      <td>11</td>\n",
       "      <td>0</td>\n",
       "    </tr>\n",
       "    <tr>\n",
       "      <th>4</th>\n",
       "      <td>5324</td>\n",
       "      <td>1981</td>\n",
       "      <td>PhD</td>\n",
       "      <td>Married</td>\n",
       "      <td>58293.0</td>\n",
       "      <td>1</td>\n",
       "      <td>0</td>\n",
       "      <td>19-01-2014</td>\n",
       "      <td>94</td>\n",
       "      <td>173</td>\n",
       "      <td>...</td>\n",
       "      <td>5</td>\n",
       "      <td>0</td>\n",
       "      <td>0</td>\n",
       "      <td>0</td>\n",
       "      <td>0</td>\n",
       "      <td>0</td>\n",
       "      <td>0</td>\n",
       "      <td>3</td>\n",
       "      <td>11</td>\n",
       "      <td>0</td>\n",
       "    </tr>\n",
       "  </tbody>\n",
       "</table>\n",
       "<p>5 rows × 29 columns</p>\n",
       "</div>"
      ],
      "text/plain": [
       "     ID  Year_Birth   Education Marital_Status   Income  Kidhome  Teenhome  \\\n",
       "0  5524        1957  Graduation         Single  58138.0        0         0   \n",
       "1  2174        1954  Graduation         Single  46344.0        1         1   \n",
       "2  4141        1965  Graduation       Together  71613.0        0         0   \n",
       "3  6182        1984  Graduation       Together  26646.0        1         0   \n",
       "4  5324        1981         PhD        Married  58293.0        1         0   \n",
       "\n",
       "  Dt_Customer  Recency  MntWines  ...  NumWebVisitsMonth  AcceptedCmp3  \\\n",
       "0  04-09-2012       58       635  ...                  7             0   \n",
       "1  08-03-2014       38        11  ...                  5             0   \n",
       "2  21-08-2013       26       426  ...                  4             0   \n",
       "3  10-02-2014       26        11  ...                  6             0   \n",
       "4  19-01-2014       94       173  ...                  5             0   \n",
       "\n",
       "   AcceptedCmp4  AcceptedCmp5  AcceptedCmp1  AcceptedCmp2  Complain  \\\n",
       "0             0             0             0             0         0   \n",
       "1             0             0             0             0         0   \n",
       "2             0             0             0             0         0   \n",
       "3             0             0             0             0         0   \n",
       "4             0             0             0             0         0   \n",
       "\n",
       "   Z_CostContact  Z_Revenue  Response  \n",
       "0              3         11         1  \n",
       "1              3         11         0  \n",
       "2              3         11         0  \n",
       "3              3         11         0  \n",
       "4              3         11         0  \n",
       "\n",
       "[5 rows x 29 columns]"
      ]
     },
     "execution_count": 4,
     "metadata": {},
     "output_type": "execute_result"
    }
   ],
   "source": [
    "df.head()"
   ]
  },
  {
   "cell_type": "markdown",
   "metadata": {},
   "source": [
    "# Data Understanding\n",
    "\n",
    "## People\n",
    "\n",
    "- ID: Identitas unik Customer\n",
    "- Year_Birth: Tahun Lahir Customer\n",
    "- Education: Tingkat pendidikan Customer\n",
    "- Marital_Status: Status pernikahan customer\n",
    "- Income: Pendapatan rumah tangga tahunan customer\n",
    "- Kidhome: Jumlah anak dalam rumah tangga customer\n",
    "- Teenhome: Jumlah remaja dalam rumah tangga customer\n",
    "- Dt_Customer: Tanggal pelanggan berlangganan dengan perusahaan\n",
    "- Recency: Jumlah hari sejak pembelian terakhir customer\n",
    "- Complain: 1 jika customer mengeluh dalam 2 tahun terakhir, 0 sebaliknya\n",
    "\n",
    "## Products\n",
    "\n",
    "- MntWines: Jumlah uang yang dihabiskan untuk anggur dalam 2 tahun terakhir\n",
    "- MntFruits: Jumlah uang yang dihabiskan untuk buah dalam 2 tahun terakhir\n",
    "- MntMeatProducts: Jumlah uang yang dihabiskan untuk daging dalam 2 tahun terakhir\n",
    "- MntFishProducts: Jumlah uang yang dihabiskan untuk ikan dalam 2 tahun terakhir\n",
    "- MntSweetProducts: Jumlah uang yang dihabiskan untuk permen dalam 2 tahun terakhir\n",
    "- MntGoldProds: Jumlah uang yang dihabiskan untuk emas dalam 2 tahun terakhir\n",
    "\n",
    "## Promotion\n",
    "\n",
    "- NumDealsPurchases: Number of purchases made with a discount\n",
    "- AcceptedCmp1: 1 jika customer menerima penawaran pada promosi ke-1, 0 sebaliknya\n",
    "- AcceptedCmp2: 1 jika customer menerima penawaran pada promosi ke-2, 0 sebaliknya\n",
    "- AcceptedCmp3: 1 jika customer menerima penawaran pada promosi ke-3, 0 sebaliknya\n",
    "- AcceptedCmp4: 1 jika customer menerima penawaran pada promosi ke-4, 0 sebaliknya\n",
    "- AcceptedCmp5: 1 jika customer menerima penawaran pada promosi ke-5, 0 sebaliknya\n",
    "- Response: 1 jika pelanggan menerima penawaran pada promosi terakhir, 0 sebaliknya\n",
    "\n",
    "## Place\n",
    "\n",
    "- NumWebPurchases: Jumlah pembelian yang dilakukan melalui situs web perusahaan\n",
    "- NumCatalogPurchases:Jumlah pembelian yang dilakukan melalui katalog\n",
    "- NumStorePurchases: Jumlah pembelian yang dilakukan langsung di toko\n",
    "- NumWebVisitsMonth: Jumlah kunjungan ke situs web perusahaan dalam sebulan terakhir"
   ]
  },
  {
   "cell_type": "markdown",
   "metadata": {},
   "source": [
    "# Data Wrangling"
   ]
  },
  {
   "cell_type": "markdown",
   "metadata": {},
   "source": [
    "##### 1. Cek Tipe Data"
   ]
  },
  {
   "cell_type": "code",
   "execution_count": 5,
   "metadata": {},
   "outputs": [
    {
     "data": {
      "text/plain": [
       "ID                       int64\n",
       "Year_Birth               int64\n",
       "Education               object\n",
       "Marital_Status          object\n",
       "Income                 float64\n",
       "Kidhome                  int64\n",
       "Teenhome                 int64\n",
       "Dt_Customer             object\n",
       "Recency                  int64\n",
       "MntWines                 int64\n",
       "MntFruits                int64\n",
       "MntMeatProducts          int64\n",
       "MntFishProducts          int64\n",
       "MntSweetProducts         int64\n",
       "MntGoldProds             int64\n",
       "NumDealsPurchases        int64\n",
       "NumWebPurchases          int64\n",
       "NumCatalogPurchases      int64\n",
       "NumStorePurchases        int64\n",
       "NumWebVisitsMonth        int64\n",
       "AcceptedCmp3             int64\n",
       "AcceptedCmp4             int64\n",
       "AcceptedCmp5             int64\n",
       "AcceptedCmp1             int64\n",
       "AcceptedCmp2             int64\n",
       "Complain                 int64\n",
       "Z_CostContact            int64\n",
       "Z_Revenue                int64\n",
       "Response                 int64\n",
       "dtype: object"
      ]
     },
     "execution_count": 5,
     "metadata": {},
     "output_type": "execute_result"
    }
   ],
   "source": [
    "df.dtypes"
   ]
  },
  {
   "cell_type": "code",
   "execution_count": 6,
   "metadata": {},
   "outputs": [],
   "source": [
    "# Konversi tipe data datetime\n",
    "df['Dt_Customer'] = pd.to_datetime(df['Dt_Customer'])"
   ]
  },
  {
   "cell_type": "markdown",
   "metadata": {},
   "source": [
    "#### 2. Cek Missing Value"
   ]
  },
  {
   "cell_type": "code",
   "execution_count": 7,
   "metadata": {},
   "outputs": [
    {
     "data": {
      "text/plain": [
       "ID                      0\n",
       "Year_Birth              0\n",
       "Education               0\n",
       "Marital_Status          0\n",
       "Income                 24\n",
       "Kidhome                 0\n",
       "Teenhome                0\n",
       "Dt_Customer             0\n",
       "Recency                 0\n",
       "MntWines                0\n",
       "MntFruits               0\n",
       "MntMeatProducts         0\n",
       "MntFishProducts         0\n",
       "MntSweetProducts        0\n",
       "MntGoldProds            0\n",
       "NumDealsPurchases       0\n",
       "NumWebPurchases         0\n",
       "NumCatalogPurchases     0\n",
       "NumStorePurchases       0\n",
       "NumWebVisitsMonth       0\n",
       "AcceptedCmp3            0\n",
       "AcceptedCmp4            0\n",
       "AcceptedCmp5            0\n",
       "AcceptedCmp1            0\n",
       "AcceptedCmp2            0\n",
       "Complain                0\n",
       "Z_CostContact           0\n",
       "Z_Revenue               0\n",
       "Response                0\n",
       "dtype: int64"
      ]
     },
     "execution_count": 7,
     "metadata": {},
     "output_type": "execute_result"
    }
   ],
   "source": [
    "df.isna().sum()\n",
    "\n",
    "# Terdapat missing value pada kolom Income"
   ]
  },
  {
   "cell_type": "code",
   "execution_count": 8,
   "metadata": {},
   "outputs": [],
   "source": [
    "df = df.dropna(subset=['Income'])\n",
    "\n",
    "# Karena jumlah yang sedikit maka missing value di drop"
   ]
  },
  {
   "cell_type": "code",
   "execution_count": 9,
   "metadata": {},
   "outputs": [
    {
     "data": {
      "text/plain": [
       "Married     857\n",
       "Together    573\n",
       "Single      471\n",
       "Divorced    232\n",
       "Widow        76\n",
       "Alone         3\n",
       "YOLO          2\n",
       "Absurd        2\n",
       "Name: Marital_Status, dtype: int64"
      ]
     },
     "execution_count": 9,
     "metadata": {},
     "output_type": "execute_result"
    }
   ],
   "source": [
    "# Cek missing value pada marital status\n",
    "df['Marital_Status'].value_counts()"
   ]
  },
  {
   "cell_type": "code",
   "execution_count": 10,
   "metadata": {},
   "outputs": [
    {
     "data": {
      "text/plain": [
       "Graduation    1116\n",
       "PhD            481\n",
       "Master         365\n",
       "2n Cycle       200\n",
       "Basic           54\n",
       "Name: Education, dtype: int64"
      ]
     },
     "execution_count": 10,
     "metadata": {},
     "output_type": "execute_result"
    }
   ],
   "source": [
    "# Cek missing value pada Education\n",
    "df['Education'].value_counts()"
   ]
  },
  {
   "cell_type": "markdown",
   "metadata": {},
   "source": [
    "##### 3. Cek Outliers"
   ]
  },
  {
   "cell_type": "code",
   "execution_count": 11,
   "metadata": {},
   "outputs": [
    {
     "data": {
      "text/plain": [
       "<AxesSubplot:xlabel='Income'>"
      ]
     },
     "execution_count": 11,
     "metadata": {},
     "output_type": "execute_result"
    },
    {
     "data": {
      "image/png": "[encoded data removed]",
      "text/plain": [
       "<Figure size 432x288 with 1 Axes>"
      ]
     },
     "metadata": {
      "needs_background": "light"
     },
     "output_type": "display_data"
    }
   ],
   "source": [
    "# Terdapat Outlier\n",
    "sns.boxplot(x=df[\"Income\"])"
   ]
  },
  {
   "cell_type": "code",
   "execution_count": 12,
   "metadata": {},
   "outputs": [],
   "source": [
    "# Membuat fungsi untuk drop outlier\n",
    "def cek_outliers(col):\n",
    "    Q1 = df.describe()[col]['25%']\n",
    "    Q3 = df.describe()[col]['75%']\n",
    "    IQR = Q3 - Q1\n",
    "    upper_fence = Q3 + (1.5 * IQR)\n",
    "    lower_fence = Q1 - (1.5 * IQR)\n",
    "    return upper_fence, lower_fence\n",
    "    "
   ]
  },
  {
   "cell_type": "code",
   "execution_count": 13,
   "metadata": {},
   "outputs": [],
   "source": [
    "upper_fence, lower_fence = cek_outliers('Income')"
   ]
  },
  {
   "cell_type": "code",
   "execution_count": 14,
   "metadata": {},
   "outputs": [],
   "source": [
    "# Melakukan drop outlier Income\n",
    "df = df.drop(df[(df['Income']>upper_fence)].index)"
   ]
  },
  {
   "cell_type": "code",
   "execution_count": 15,
   "metadata": {},
   "outputs": [
    {
     "data": {
      "text/plain": [
       "<AxesSubplot:xlabel='Year_Birth'>"
      ]
     },
     "execution_count": 15,
     "metadata": {},
     "output_type": "execute_result"
    },
    {
     "data": {
      "image/png": "[encoded data removed]",
      "text/plain": [
       "<Figure size 432x288 with 1 Axes>"
      ]
     },
     "metadata": {
      "needs_background": "light"
     },
     "output_type": "display_data"
    }
   ],
   "source": [
    "# Terdapat outlier pada kolom Year_Birth\n",
    "sns.boxplot(x=df[\"Year_Birth\"])"
   ]
  },
  {
   "cell_type": "code",
   "execution_count": 16,
   "metadata": {},
   "outputs": [],
   "source": [
    "upper_fence, lower_fence = cek_outliers('Year_Birth')"
   ]
  },
  {
   "cell_type": "code",
   "execution_count": 17,
   "metadata": {},
   "outputs": [],
   "source": [
    "# Melakukan drop outlier pada kolom Year_Birth\n",
    "df = df.drop(df[(df['Year_Birth']< lower_fence)].index)"
   ]
  },
  {
   "cell_type": "markdown",
   "metadata": {},
   "source": [
    "#### 4. Cek Data Duplikat"
   ]
  },
  {
   "cell_type": "code",
   "execution_count": 18,
   "metadata": {},
   "outputs": [
    {
     "data": {
      "text/html": [
       "<div>\n",
       "<style scoped>\n",
       "    .dataframe tbody tr th:only-of-type {\n",
       "        vertical-align: middle;\n",
       "    }\n",
       "\n",
       "    .dataframe tbody tr th {\n",
       "        vertical-align: top;\n",
       "    }\n",
       "\n",
       "    .dataframe thead th {\n",
       "        text-align: right;\n",
       "    }\n",
       "</style>\n",
       "<table border=\"1\" class=\"dataframe\">\n",
       "  <thead>\n",
       "    <tr style=\"text-align: right;\">\n",
       "      <th></th>\n",
       "      <th>ID</th>\n",
       "      <th>Year_Birth</th>\n",
       "      <th>Education</th>\n",
       "      <th>Marital_Status</th>\n",
       "      <th>Income</th>\n",
       "      <th>Kidhome</th>\n",
       "      <th>Teenhome</th>\n",
       "      <th>Dt_Customer</th>\n",
       "      <th>Recency</th>\n",
       "      <th>MntWines</th>\n",
       "      <th>...</th>\n",
       "      <th>NumWebVisitsMonth</th>\n",
       "      <th>AcceptedCmp3</th>\n",
       "      <th>AcceptedCmp4</th>\n",
       "      <th>AcceptedCmp5</th>\n",
       "      <th>AcceptedCmp1</th>\n",
       "      <th>AcceptedCmp2</th>\n",
       "      <th>Complain</th>\n",
       "      <th>Z_CostContact</th>\n",
       "      <th>Z_Revenue</th>\n",
       "      <th>Response</th>\n",
       "    </tr>\n",
       "  </thead>\n",
       "  <tbody>\n",
       "  </tbody>\n",
       "</table>\n",
       "<p>0 rows × 29 columns</p>\n",
       "</div>"
      ],
      "text/plain": [
       "Empty DataFrame\n",
       "Columns: [ID, Year_Birth, Education, Marital_Status, Income, Kidhome, Teenhome, Dt_Customer, Recency, MntWines, MntFruits, MntMeatProducts, MntFishProducts, MntSweetProducts, MntGoldProds, NumDealsPurchases, NumWebPurchases, NumCatalogPurchases, NumStorePurchases, NumWebVisitsMonth, AcceptedCmp3, AcceptedCmp4, AcceptedCmp5, AcceptedCmp1, AcceptedCmp2, Complain, Z_CostContact, Z_Revenue, Response]\n",
       "Index: []\n",
       "\n",
       "[0 rows x 29 columns]"
      ]
     },
     "execution_count": 18,
     "metadata": {},
     "output_type": "execute_result"
    }
   ],
   "source": [
    "# Cek Data Duplikat, tidak terdapat data duplikat\n",
    "df[df['ID'].duplicated()==True]"
   ]
  },
  {
   "cell_type": "markdown",
   "metadata": {},
   "source": [
    "#### 5. Pengolahan Kolom"
   ]
  },
  {
   "cell_type": "code",
   "execution_count": 19,
   "metadata": {},
   "outputs": [],
   "source": [
    "# Membuat kolom umur \n",
    "df['Age']=2014 - df['Year_Birth']"
   ]
  },
  {
   "cell_type": "code",
   "execution_count": 20,
   "metadata": {},
   "outputs": [],
   "source": [
    "# Membuat fungsi untuk Recategorize umur\n",
    "# Source : https://med.libretexts.org/Courses/American_Public_University/APUS%3A_An_Introduction_to_Nutrition_(Byerley)/APUS%3A_An_Introduction_to_Nutrition_1st_Edition/12%3A_Maternal_Infant_Childhood_and_Adolescent_Nutrition/12.02%3A_The_Human_Life_Cycle\n",
    "def func_age(x):\n",
    "    if x >=18 and x <= 30 :\n",
    "        return 'Adult (18-30)'\n",
    "    elif x >= 31 and x <= 50 :\n",
    "        return 'Middle Age (31-50)'\n",
    "    elif x >= 51 and x <= df['Age'].describe()['max'] :\n",
    "        return 'Senior (51-74)'"
   ]
  },
  {
   "cell_type": "code",
   "execution_count": 21,
   "metadata": {},
   "outputs": [],
   "source": [
    "# Hasil recategorize umur disimpan pada kolom Customer Age\n",
    "df['CustomerAge'] = df['Age'].apply(func_age)"
   ]
  },
  {
   "cell_type": "code",
   "execution_count": 22,
   "metadata": {},
   "outputs": [],
   "source": [
    "# Melakukan Recategorize Marital Status\n",
    "df['Marital_Status']=df['Marital_Status'].replace({'Divorced':'Alone',\n",
    "'Single':'Alone',\n",
    "'Married':'Couple',\n",
    "'Together':'Couple',\n",
    "'Absurd':'Alone',\n",
    "'Widow':'Alone',\n",
    "'YOLO':'Alone'})"
   ]
  },
  {
   "cell_type": "code",
   "execution_count": 23,
   "metadata": {},
   "outputs": [],
   "source": [
    "# Membuat fungsi untuk Recategorize amount wines\n",
    "def func_MntWines(x):\n",
    "    if  x <= df[\"MntWines\"].describe()['50%'] :\n",
    "        return 'Lower Spent'\n",
    "    elif x > df[\"MntWines\"].describe()['50%'] :\n",
    "        return 'Higher Spent'\n",
    "    "
   ]
  },
  {
   "cell_type": "code",
   "execution_count": 24,
   "metadata": {},
   "outputs": [],
   "source": [
    "# Hasil recategorize Amount Wines disimpan pada kolom WinesSpent\n",
    "df['WinesSpent'] = df['MntWines'].apply(func_MntWines)"
   ]
  },
  {
   "cell_type": "code",
   "execution_count": 25,
   "metadata": {},
   "outputs": [],
   "source": [
    "# Membuat fungsi untuk Recategorize amount sweet\n",
    "def func_MntSweet(x):\n",
    "    if  x <= df[\"MntSweetProducts\"].describe()['50%'] :\n",
    "        return 'Lower Spent'\n",
    "    elif x > df[\"MntSweetProducts\"].describe()['50%'] :\n",
    "        return 'Higher Spent'\n",
    "    "
   ]
  },
  {
   "cell_type": "code",
   "execution_count": 26,
   "metadata": {},
   "outputs": [],
   "source": [
    "# Hasil recategorize Amount Sweet disimpan pada kolom SweetSpent\n",
    "df['SweetSpent'] = df['MntSweetProducts'].apply(func_MntSweet)"
   ]
  },
  {
   "cell_type": "code",
   "execution_count": 27,
   "metadata": {},
   "outputs": [],
   "source": [
    "# Membuat fungsi untuk Recategorize amount meat\n",
    "def func_MntMeat(x):\n",
    "    if  x <= df[\"MntMeatProducts\"].describe()['50%'] :\n",
    "        return 'Lower Spent'\n",
    "    elif x > df[\"MntMeatProducts\"].describe()['50%'] :\n",
    "        return 'Higher Spent'"
   ]
  },
  {
   "cell_type": "code",
   "execution_count": 28,
   "metadata": {},
   "outputs": [],
   "source": [
    "# Hasil recategorize Amount Meat disimpan pada kolom MeatSpent\n",
    "df['MeatSpent'] = df['MntMeatProducts'].apply(func_MntMeat)"
   ]
  },
  {
   "cell_type": "code",
   "execution_count": 29,
   "metadata": {},
   "outputs": [],
   "source": [
    "# Membuat fungsi untuk Recategorize amount meat\n",
    "def func_MntGold(x):\n",
    "    if  x <= df[\"MntGoldProds\"].describe()['50%'] :\n",
    "        return 'Lower Spent'\n",
    "    elif x > df[\"MntGoldProds\"].describe()['50%'] :\n",
    "        return 'Higher Spent'"
   ]
  },
  {
   "cell_type": "code",
   "execution_count": 30,
   "metadata": {},
   "outputs": [],
   "source": [
    "# Hasil recategorize Amount Gold disimpan pada kolom GoldSpent\n",
    "df['GoldSpent'] = df['MntGoldProds'].apply(func_MntGold)"
   ]
  },
  {
   "cell_type": "code",
   "execution_count": 31,
   "metadata": {},
   "outputs": [],
   "source": [
    "# Membuat fungsi untuk Recategorize amount fruit\n",
    "def func_MntFruit(x):\n",
    "    if  x <= df[\"MntFruits\"].describe()['50%'] :\n",
    "        return 'Lower Spent'\n",
    "    elif x > df[\"MntFruits\"].describe()['50%'] :\n",
    "        return 'Higher Spent'"
   ]
  },
  {
   "cell_type": "code",
   "execution_count": 32,
   "metadata": {},
   "outputs": [],
   "source": [
    "# Hasil recategorize Amount Fruit disimpan pada kolom FruitSpent\n",
    "df['FruitSpent'] = df['MntFruits'].apply(func_MntFruit)"
   ]
  },
  {
   "cell_type": "code",
   "execution_count": 33,
   "metadata": {},
   "outputs": [],
   "source": [
    "# Membuat fungsi untuk Recategorize amount fish\n",
    "def func_MntFish(x):\n",
    "    if  x <= df[\"MntFishProducts\"].describe()['50%'] :\n",
    "        return 'Lower Spent'\n",
    "    elif x > df[\"MntFishProducts\"].describe()['50%'] :\n",
    "        return 'Higher Spent'"
   ]
  },
  {
   "cell_type": "code",
   "execution_count": 34,
   "metadata": {},
   "outputs": [],
   "source": [
    "# Hasil recategorize Amount Fish disimpan pada kolom FishSpent\n",
    "df['FishSpent'] = df['MntFishProducts'].apply(func_MntFish)"
   ]
  },
  {
   "cell_type": "code",
   "execution_count": 35,
   "metadata": {},
   "outputs": [],
   "source": [
    "# Drop Kolom yang tidak digunakan dalam analysis\n",
    "df = df.drop(columns=['Income','Kidhome','Teenhome','Recency','AcceptedCmp1','AcceptedCmp2','AcceptedCmp3','AcceptedCmp4','AcceptedCmp5','Complain','Z_CostContact','Z_Revenue'])"
   ]
  },
  {
   "cell_type": "markdown",
   "metadata": {},
   "source": [
    "# Business Question"
   ]
  },
  {
   "cell_type": "markdown",
   "metadata": {},
   "source": [
    "#### 1. Bagaimana pengaruh kelompok umur terhadap customer dalam berbelanja melalui web? "
   ]
  },
  {
   "cell_type": "code",
   "execution_count": 36,
   "metadata": {},
   "outputs": [],
   "source": [
    "df_visitWeb = pd.crosstab(index=df['CustomerAge'],columns='SumVisitWeb',values=df['NumWebVisitsMonth'],aggfunc='sum')"
   ]
  },
  {
   "cell_type": "code",
   "execution_count": 40,
   "metadata": {},
   "outputs": [
    {
     "data": {
      "image/png": "[encoded data removed]",
      "text/plain": [
       "<Figure size 432x288 with 1 Axes>"
      ]
     },
     "metadata": {},
     "output_type": "display_data"
    }
   ],
   "source": [
    "df_visitWeb.plot.pie(subplots=True,\n",
    "shadow=True,\n",
    "textprops={\n",
    "    'size' : 10,\n",
    "    'color' : 'White'\n",
    "},\n",
    "autopct = '%1.2f%%',\n",
    "explode=(0.05, 0.1, 0.05),\n",
    "radius = 1,\n",
    ")\n",
    "title = plt.title('Visit Web Precentage')\n",
    "plt.setp(title, color='w')\n",
    "plt.ylabel('')\n",
    "plt.legend(['Store','Catalog','Web'],title='Place', bbox_to_anchor=(1, 1.1))\n",
    "plt.show()"
   ]
  },
  {
   "cell_type": "code",
   "execution_count": 42,
   "metadata": {},
   "outputs": [],
   "source": [
    "df_ct1 = pd.crosstab(index=df['CustomerAge'],columns='SumStorePurchase',values=df['NumStorePurchases'],aggfunc='sum')"
   ]
  },
  {
   "cell_type": "code",
   "execution_count": 43,
   "metadata": {},
   "outputs": [],
   "source": [
    "df_ct2 = pd.crosstab(index=df['CustomerAge'],columns='SumCatalogPurchase',values=df['NumCatalogPurchases'],aggfunc='sum')"
   ]
  },
  {
   "cell_type": "code",
   "execution_count": 44,
   "metadata": {},
   "outputs": [],
   "source": [
    "df_ct3 = pd.crosstab(index=df['CustomerAge'],columns='SumWebPurchase',values=df['NumWebPurchases'],aggfunc='sum')"
   ]
  },
  {
   "cell_type": "code",
   "execution_count": 45,
   "metadata": {},
   "outputs": [],
   "source": [
    "df_final = df_ct1.join(df_ct2, on='CustomerAge').join(df_ct3,on='CustomerAge').T"
   ]
  },
  {
   "cell_type": "code",
   "execution_count": 46,
   "metadata": {},
   "outputs": [],
   "source": [
    "df_ct_adult = df_final.drop(['Middle Age (31-50)','Senior (51-74)'],axis = 1)"
   ]
  },
  {
   "cell_type": "code",
   "execution_count": 48,
   "metadata": {},
   "outputs": [
    {
     "data": {
      "image/png": "[encoded data removed]",
      "text/plain": [
       "<Figure size 432x288 with 1 Axes>"
      ]
     },
     "metadata": {},
     "output_type": "display_data"
    }
   ],
   "source": [
    "df_ct_adult.plot.pie(subplots=True,\n",
    "shadow=True,\n",
    "textprops={\n",
    "    \n",
    "    'size' : 10,\n",
    "    'color' : 'white',\n",
    "    \n",
    "},\n",
    "autopct = '%1.2f%%',\n",
    "explode=(0.05, 0.05, 0.1),\n",
    "radius = 1,\n",
    "labels =( 'Store Purchase','Catalog Purchase','Web Purchase')\n",
    ")\n",
    "\n",
    "title = plt.title('Adult (18-30)')\n",
    "plt.setp(title, color='w')\n",
    "plt.ylabel('')\n",
    "plt.legend(['Store','Catalog','Web'],title='Place', bbox_to_anchor=(-0.1, 1))\n",
    "plt.show()"
   ]
  },
  {
   "cell_type": "code",
   "execution_count": 50,
   "metadata": {},
   "outputs": [],
   "source": [
    "df_ct_middle = df_final.drop(['Adult (18-30)','Senior (51-74)'],axis = 1)"
   ]
  },
  {
   "cell_type": "code",
   "execution_count": 52,
   "metadata": {},
   "outputs": [
    {
     "data": {
      "image/png": "[encoded data removed]",
      "text/plain": [
       "<Figure size 432x288 with 1 Axes>"
      ]
     },
     "metadata": {},
     "output_type": "display_data"
    }
   ],
   "source": [
    "df_ct_middle.plot.pie(subplots=True,\n",
    "shadow=True,\n",
    "textprops={\n",
    "    'size' : 10,\n",
    "    'color' : 'white'\n",
    "},\n",
    "autopct = '%1.2f%%',\n",
    "explode=(0.05, 0.05, 0.1),\n",
    "radius = 1,\n",
    "labels =( 'Store Purchase','Catalog Purchase','Web Purchase')\n",
    ")\n",
    "title = plt.title('Middle (31-50)')\n",
    "plt.setp(title, color='w')\n",
    "plt.ylabel('')\n",
    "plt.legend(['Store','Catalog','Web'],title='Place', bbox_to_anchor=(-0.1, 1))\n",
    "plt.show()"
   ]
  },
  {
   "cell_type": "code",
   "execution_count": 54,
   "metadata": {},
   "outputs": [],
   "source": [
    "df_ct_senior = df_final.drop(['Adult (18-30)','Middle Age (31-50)'],axis = 1)"
   ]
  },
  {
   "cell_type": "code",
   "execution_count": 56,
   "metadata": {},
   "outputs": [
    {
     "data": {
      "image/png": "[encoded data removed]",
      "text/plain": [
       "<Figure size 432x288 with 1 Axes>"
      ]
     },
     "metadata": {},
     "output_type": "display_data"
    }
   ],
   "source": [
    "df_ct_senior.plot.pie(subplots=True,\n",
    "shadow=True,\n",
    "textprops={\n",
    "    'size' : 10,\n",
    "    'color' : 'white'\n",
    "},\n",
    "autopct = '%1.2f%%',\n",
    "explode=(0.05, 0.05, 0.1),\n",
    "radius = 1,\n",
    "labels =( 'Store Purchase','Catalog Purchase','Web Purchase')\n",
    ")\n",
    "title = plt.title('Senior (51-74)')\n",
    "plt.setp(title, color='w')\n",
    "plt.ylabel('')\n",
    "plt.legend(['Store','Catalog','Web'],title='Place', bbox_to_anchor=(-0.1, 1))\n",
    "plt.show()"
   ]
  },
  {
   "cell_type": "markdown",
   "metadata": {},
   "source": [
    "Insight :\n",
    "\n",
    "Customer yang belanja secara online lebih loyal dibandingkan yang langusng belanja di toko karena pengaksesannya yang mudah sehingga lebih menghemat waktu dalam berbelanja\n",
    "\n",
    "Source :\n",
    "https://www.candyindustry.com/articles/90056-online-grocery-shoppers-more-loyal-to-brands-stores-than-in-store-shoppers\n",
    "\n",
    "Dapat dilihat pada pie chart visit web total bahwa Customer middle age merupakan pengunjung web terbanyak yaitu sebanyak 58.13% dari total customer.\n",
    "Dari tempat pembelian item berdasarkan kategori umur juga, Middle age merupakan pembeli melalui web terbanyak yaitu sebesar 33.85%. Sehingga customer Middle age merupakan customer yang paling potensial dalam pembelian item melalui web.\n",
    "\n",
    "\n",
    "Recomendation :\n",
    "\n",
    "Tim marketing dapat memberikan promo dalam pembelian item terhadap pengguna baru aplikasi, campaign tersebut dapat disebarkan melalui ads sosial media dengan target umur middle age yaitu 31-50 tahun.\n",
    "\n",
    "Salah satunya adalah melalui ads instagram, tim marketing dapat mengadakan giveaway untuk mendapatkan lebih banyak customer. Dikutip dari jmango360.com akun instagram yang melakukan giveaway cenderung mengalami pertumbuhan follower 70% lebih cepat dalam 3 bulan.\n",
    "\n",
    "Source :\n",
    "https://jmango360.com/blog/11-app-marketing-ideas-ecommerce-stores/\n",
    "\n"
   ]
  },
  {
   "cell_type": "markdown",
   "metadata": {},
   "source": [
    "#### 2. Item wines cocok untuk customer yang seperti apa? "
   ]
  },
  {
   "cell_type": "code",
   "execution_count": null,
   "metadata": {},
   "outputs": [
    {
     "data": {
      "image/png": "[encoded data removed]",
      "text/plain": [
       "<Figure size 432x288 with 1 Axes>"
      ]
     },
     "metadata": {
      "needs_background": "light"
     },
     "output_type": "display_data"
    }
   ],
   "source": [
    "# Dapat dilihat bahwa boxplot TIDAK terdistribusi normal \n",
    "sns.boxplot(x=df['CustomerAge'],y=df['MntWines'])\n",
    "plt.xlabel('Customer Age')\n",
    "plt.ylabel('Amount Spent on Wines')\n",
    "plt.show()"
   ]
  },
  {
   "cell_type": "code",
   "execution_count": null,
   "metadata": {},
   "outputs": [
    {
     "name": "stdout",
     "output_type": "stream",
     "text": [
      "Tolak H0\n"
     ]
    }
   ],
   "source": [
    "# Menggunakan Kruska Wallis karena data tidak terdistribusi normal dan lebih dari 2 grup\n",
    "fval, pval = kruskal(\n",
    "    df[df['CustomerAge']=='Adult (18-30)']['MntWines'],\n",
    "    df[df['CustomerAge']=='Middle Age (31-50)']['MntWines'],\n",
    "    df[df['CustomerAge']=='Senior (51-74)']['MntWines']\n",
    "    )\n",
    "\n",
    "if pval < 0.05:\n",
    "    print('Tolak H0')\n",
    "else:\n",
    "    print('Terima H0')\n",
    "\n",
    "# Secara statistik terdapat perbedaan yang signifikan dari spent pada wines berdasarkan kelompok usia sehingga perlu dianalisa lebih dalam"
   ]
  },
  {
   "cell_type": "code",
   "execution_count": null,
   "metadata": {},
   "outputs": [
    {
     "data": {
      "text/html": [
       "<div>\n",
       "<style scoped>\n",
       "    .dataframe tbody tr th:only-of-type {\n",
       "        vertical-align: middle;\n",
       "    }\n",
       "\n",
       "    .dataframe tbody tr th {\n",
       "        vertical-align: top;\n",
       "    }\n",
       "\n",
       "    .dataframe thead th {\n",
       "        text-align: right;\n",
       "    }\n",
       "</style>\n",
       "<table border=\"1\" class=\"dataframe\">\n",
       "  <thead>\n",
       "    <tr style=\"text-align: right;\">\n",
       "      <th>WinesSpent</th>\n",
       "      <th>Higher Spent</th>\n",
       "      <th>Lower Spent</th>\n",
       "    </tr>\n",
       "    <tr>\n",
       "      <th>CustomerAge</th>\n",
       "      <th></th>\n",
       "      <th></th>\n",
       "    </tr>\n",
       "  </thead>\n",
       "  <tbody>\n",
       "    <tr>\n",
       "      <th>Adult (18-30)</th>\n",
       "      <td>35.41</td>\n",
       "      <td>64.59</td>\n",
       "    </tr>\n",
       "    <tr>\n",
       "      <th>Middle Age (31-50)</th>\n",
       "      <td>45.40</td>\n",
       "      <td>54.60</td>\n",
       "    </tr>\n",
       "    <tr>\n",
       "      <th>Senior (51-74)</th>\n",
       "      <td>62.60</td>\n",
       "      <td>37.40</td>\n",
       "    </tr>\n",
       "    <tr>\n",
       "      <th>All</th>\n",
       "      <td>49.93</td>\n",
       "      <td>50.07</td>\n",
       "    </tr>\n",
       "  </tbody>\n",
       "</table>\n",
       "</div>"
      ],
      "text/plain": [
       "WinesSpent          Higher Spent  Lower Spent\n",
       "CustomerAge                                  \n",
       "Adult (18-30)              35.41        64.59\n",
       "Middle Age (31-50)         45.40        54.60\n",
       "Senior (51-74)             62.60        37.40\n",
       "All                        49.93        50.07"
      ]
     },
     "execution_count": 167,
     "metadata": {},
     "output_type": "execute_result"
    }
   ],
   "source": [
    "(pd.crosstab(index=df['CustomerAge'], columns=df['WinesSpent'], normalize='index', margins=True)*100).round(2)"
   ]
  },
  {
   "cell_type": "markdown",
   "metadata": {},
   "source": [
    "Insight :\n",
    "\n",
    "Dapat dilihat dari kelompok umur bahwa senior age memiliki potensi karena 62% memiliki higher spent pada pembelian wines.\n",
    "\n",
    "Recomendation :\n",
    "\n",
    "Faktanya wine memiliki khasiat untuk senior age, dikutip dari thesummitretirement.com beberapa khasiat wine yaitu adalah menurunkan risiko penyakit alzheimer, mengurangi peluang terkena kanker,dan mengurangi peradangan dalam tubuh dengan kadar secukupnya yaitu 2 gelas sehari.\n",
    "\n",
    "Source :\n",
    "https://www.thesummitretirement.com/senior-retirement-blog/what-are-the-benefits-of-drinking-red-wine-for-seniors/\n",
    "\n",
    "Sehingga tim marketing dapat membuat campaign berisi khasiat dari wines untuk senior age dan dapat dipasarkan di panti jompo, seperti sage home care yang membolehkan penghuni untuk meminum wine dengan kadar yang cukup dan merupakan jenis wine yang aman dikonsumsi untuk usia senja seperti Pinot Noir, Rose, Merlot, atau Malbec yang dapat dibeli di toko ini.\n",
    "\n",
    "Source :\n",
    "https://www.sagehomecare.com/a-senior-adults-cheatsheet-for-healthy-wines"
   ]
  },
  {
   "cell_type": "code",
   "execution_count": null,
   "metadata": {},
   "outputs": [
    {
     "data": {
      "image/png": "[encoded data removed]",
      "text/plain": [
       "<Figure size 432x288 with 1 Axes>"
      ]
     },
     "metadata": {
      "needs_background": "light"
     },
     "output_type": "display_data"
    }
   ],
   "source": [
    "# Dapat dilihat bahwa boxplot TIDAK terdistribusi normal \n",
    "sns.boxplot(x=df['Marital_Status'],y=df[\"MntWines\"])\n",
    "plt.xlabel('Marital Status')\n",
    "plt.ylabel('Amount Spent on Wines')\n",
    "plt.show()"
   ]
  },
  {
   "cell_type": "code",
   "execution_count": null,
   "metadata": {},
   "outputs": [
    {
     "name": "stdout",
     "output_type": "stream",
     "text": [
      "Terima H0\n"
     ]
    }
   ],
   "source": [
    "fval, pval = mannwhitneyu(\n",
    "    df[df['Marital_Status']=='Alone']['MntWines'],\n",
    "    df[df['Marital_Status']=='Couple']['MntWines']\n",
    "    )\n",
    "\n",
    "if pval < 0.05:\n",
    "    print('Tolak H0')\n",
    "else:\n",
    "    print('Terima H0')\n",
    "\n",
    "# Karena Pvalue < 0.005 sehingga tidak ada perbedaan signifikan marital status terhadap spent pada item wines sehingga tidak perlu dianalisis lebih dalam"
   ]
  },
  {
   "cell_type": "markdown",
   "metadata": {},
   "source": [
    "#### 3. Item permen cocok untuk customer yang seperti apa? "
   ]
  },
  {
   "cell_type": "code",
   "execution_count": null,
   "metadata": {},
   "outputs": [
    {
     "data": {
      "image/png": "[encoded data removed]",
      "text/plain": [
       "<Figure size 432x288 with 1 Axes>"
      ]
     },
     "metadata": {
      "needs_background": "light"
     },
     "output_type": "display_data"
    }
   ],
   "source": [
    "# Data TIDAK terdistribusi normal\n",
    "sns.boxplot(x=df['CustomerAge'],y=df['MntSweetProducts'])\n",
    "plt.xlabel('Customer Age')\n",
    "plt.ylabel('Amount Spent on Sweet')\n",
    "plt.show()"
   ]
  },
  {
   "cell_type": "code",
   "execution_count": null,
   "metadata": {},
   "outputs": [
    {
     "name": "stdout",
     "output_type": "stream",
     "text": [
      "Tolak H0\n"
     ]
    }
   ],
   "source": [
    "# Menggunakan Kruska Wallis karena data tidak terdistribusi normal dan lebih dari 2 grup\n",
    "fval, pval = kruskal(\n",
    "    df[df['CustomerAge']=='Adult (18-30)']['MntSweetProducts'],\n",
    "    df[df['CustomerAge']=='Middle Age (31-50)']['MntSweetProducts'],\n",
    "    df[df['CustomerAge']=='Senior (51-74)']['MntSweetProducts']\n",
    "    )\n",
    "\n",
    "if pval < 0.05:\n",
    "    print('Tolak H0')\n",
    "else:\n",
    "    print('Terima H0')\n",
    "\n",
    "# Secara statistik terdapat perbedaan yang signifikan dari spent pada permen berdasarkan kelompok usia sehingga perlu dianalisa lebih dalam"
   ]
  },
  {
   "cell_type": "code",
   "execution_count": null,
   "metadata": {},
   "outputs": [
    {
     "data": {
      "text/html": [
       "<div>\n",
       "<style scoped>\n",
       "    .dataframe tbody tr th:only-of-type {\n",
       "        vertical-align: middle;\n",
       "    }\n",
       "\n",
       "    .dataframe tbody tr th {\n",
       "        vertical-align: top;\n",
       "    }\n",
       "\n",
       "    .dataframe thead th {\n",
       "        text-align: right;\n",
       "    }\n",
       "</style>\n",
       "<table border=\"1\" class=\"dataframe\">\n",
       "  <thead>\n",
       "    <tr style=\"text-align: right;\">\n",
       "      <th>SweetSpent</th>\n",
       "      <th>Higher Spent</th>\n",
       "      <th>Lower Spent</th>\n",
       "    </tr>\n",
       "    <tr>\n",
       "      <th>CustomerAge</th>\n",
       "      <th></th>\n",
       "      <th></th>\n",
       "    </tr>\n",
       "  </thead>\n",
       "  <tbody>\n",
       "    <tr>\n",
       "      <th>Adult (18-30)</th>\n",
       "      <td>54.47</td>\n",
       "      <td>45.53</td>\n",
       "    </tr>\n",
       "    <tr>\n",
       "      <th>Middle Age (31-50)</th>\n",
       "      <td>45.57</td>\n",
       "      <td>54.43</td>\n",
       "    </tr>\n",
       "    <tr>\n",
       "      <th>Senior (51-74)</th>\n",
       "      <td>54.93</td>\n",
       "      <td>45.07</td>\n",
       "    </tr>\n",
       "    <tr>\n",
       "      <th>All</th>\n",
       "      <td>49.71</td>\n",
       "      <td>50.29</td>\n",
       "    </tr>\n",
       "  </tbody>\n",
       "</table>\n",
       "</div>"
      ],
      "text/plain": [
       "SweetSpent          Higher Spent  Lower Spent\n",
       "CustomerAge                                  \n",
       "Adult (18-30)              54.47        45.53\n",
       "Middle Age (31-50)         45.57        54.43\n",
       "Senior (51-74)             54.93        45.07\n",
       "All                        49.71        50.29"
      ]
     },
     "execution_count": 173,
     "metadata": {},
     "output_type": "execute_result"
    }
   ],
   "source": [
    "(pd.crosstab(index=df['CustomerAge'], columns=df['SweetSpent'], normalize='index', margins=True)*100).round(2)"
   ]
  },
  {
   "cell_type": "markdown",
   "metadata": {},
   "source": [
    "Insight :\n",
    "\n",
    "Dapat dilihat dari kelompok umur bahwa adult dan senior age memiliki potensi karena  memiliki higher spent yang besar pada pembelian permen.\n",
    "\n",
    "Dikutip dari comfortkeepers.com, banyak nya orang lanjut usia dalam mengonsumsi permen karena semakin bertambahnya usia maka indra pengecap akan semakin berkurang, hal ini yang memicu customer Senior memakan makanan yang terasa lebih manis atau asin.\n",
    "\n",
    "Source : \n",
    "https://www.comfortkeepers.com/articles/info-center/seniors-and-nutrition/controlling-sweet-and-salty-cravings-in-seniors\n",
    "\n",
    "Recomendation :\n",
    "\n",
    "Menurut penelitan oleh Elżbieta Bojanowska di University in Warsaw, aktivitas customer Senior banyak dihabiskan dalam kegiatan keagamaan, bersama keluarga, dan aktivitas sosial/komunitas.\n",
    "\n",
    "Source :\n",
    "http://www.repozytorium.uni.wroc.pl/Content/58907/PDF/16_Elzbieta_Bojanowska.pdf\n",
    "\n",
    "Sehingga tim marketing dapat memasarkan produk permen yang rendah kalori yang tersedia di toko ini pada kegiatan sosial yang banyak melibatkan orang dengan usia senja (senior age), salah satu contoh nya adalah kegiatan sosial Alzheimer's Society - Memory Walk di UK yang bertujuan untuk menggalang dana untuk dementia research.\n",
    "\n",
    "Source :\n",
    "https://tfn.scot/lists/the-UKs-25-biggest-fundraising-events\n",
    "\n",
    "Tim marketing juga dapat memasarkan produk melalui ads social media dengan kategori umur adult, hal itu dapat dilakukan karena menurut penelitian yang dilakukan oleh Kevin Norton di University of South Australia, orang dewasa(Adult) menghabiskan 39% kegiatan sehari harinya dengan duduk dan menonton.\n",
    "\n",
    "Source :\n",
    "https://www.researchgate.net/figure/The-typical-adult-pattern-of-daily-activities-percentage-of-a-24-h-day-when-categorised_fig1_40683002\n",
    "\n"
   ]
  },
  {
   "cell_type": "code",
   "execution_count": null,
   "metadata": {},
   "outputs": [
    {
     "data": {
      "image/png": "[encoded data removed]",
      "text/plain": [
       "<Figure size 432x288 with 1 Axes>"
      ]
     },
     "metadata": {
      "needs_background": "light"
     },
     "output_type": "display_data"
    }
   ],
   "source": [
    "sns.boxplot(x=df['Marital_Status'],y=df['MntSweetProducts'])\n",
    "plt.xlabel('Marital Status')\n",
    "plt.ylabel('Amount Spent on Sweet')\n",
    "plt.show()"
   ]
  },
  {
   "cell_type": "code",
   "execution_count": null,
   "metadata": {},
   "outputs": [
    {
     "name": "stdout",
     "output_type": "stream",
     "text": [
      "Terima H0\n"
     ]
    }
   ],
   "source": [
    "fval, pval = mannwhitneyu(\n",
    "    df[df['Marital_Status']=='Alone']['MntSweetProducts'],\n",
    "    df[df['Marital_Status']=='Couple']['MntSweetProducts']\n",
    "    )\n",
    "\n",
    "if pval < 0.05:\n",
    "    print('Tolak H0')\n",
    "else:\n",
    "    print('Terima H0')\n",
    "\n",
    "# Karena Pvalue < 0.05 sehingga tidak ada perbedaan signifikan marital status terhadap spent pada item permen sehingga tidak perlu dianalisis lebih dalam"
   ]
  },
  {
   "cell_type": "markdown",
   "metadata": {},
   "source": [
    "#### 4. Item daging cocok untuk customer yang seperti apa? "
   ]
  },
  {
   "cell_type": "code",
   "execution_count": null,
   "metadata": {},
   "outputs": [
    {
     "data": {
      "image/png": "[encoded data removed]",
      "text/plain": [
       "<Figure size 432x288 with 1 Axes>"
      ]
     },
     "metadata": {
      "needs_background": "light"
     },
     "output_type": "display_data"
    }
   ],
   "source": [
    "# Data TIDAK terdistribusi normal\n",
    "sns.boxplot(x=df['CustomerAge'],y=df['MntMeatProducts'])\n",
    "plt.xlabel('Customer Age')\n",
    "plt.ylabel('Amount Spent on Meat')\n",
    "plt.show()"
   ]
  },
  {
   "cell_type": "code",
   "execution_count": null,
   "metadata": {},
   "outputs": [
    {
     "name": "stdout",
     "output_type": "stream",
     "text": [
      "Tolak H0\n"
     ]
    }
   ],
   "source": [
    "# Menggunakan Kruska Wallis karena data tidak terdistribusi normal dan lebih dari 2 grup\n",
    "fval, pval = kruskal(\n",
    "    df[df['CustomerAge']=='Adult (18-30)']['MntMeatProducts'],\n",
    "    df[df['CustomerAge']=='Middle Age (31-50)']['MntMeatProducts'],\n",
    "    df[df['CustomerAge']=='Senior (51-74)']['MntMeatProducts']\n",
    "    )\n",
    "\n",
    "if pval < 0.05:\n",
    "    print('Tolak H0')\n",
    "else:\n",
    "    print('Terima H0')\n",
    "\n",
    "# Secara statistik terdapat perbedaan yang signifikan dari spent pada daging berdasarkan kelompok usia sehingga perlu dianalisa lebih dalam"
   ]
  },
  {
   "cell_type": "code",
   "execution_count": null,
   "metadata": {},
   "outputs": [
    {
     "data": {
      "text/html": [
       "<div>\n",
       "<style scoped>\n",
       "    .dataframe tbody tr th:only-of-type {\n",
       "        vertical-align: middle;\n",
       "    }\n",
       "\n",
       "    .dataframe tbody tr th {\n",
       "        vertical-align: top;\n",
       "    }\n",
       "\n",
       "    .dataframe thead th {\n",
       "        text-align: right;\n",
       "    }\n",
       "</style>\n",
       "<table border=\"1\" class=\"dataframe\">\n",
       "  <thead>\n",
       "    <tr style=\"text-align: right;\">\n",
       "      <th>MeatSpent</th>\n",
       "      <th>Higher Spent</th>\n",
       "      <th>Lower Spent</th>\n",
       "    </tr>\n",
       "    <tr>\n",
       "      <th>CustomerAge</th>\n",
       "      <th></th>\n",
       "      <th></th>\n",
       "    </tr>\n",
       "  </thead>\n",
       "  <tbody>\n",
       "    <tr>\n",
       "      <th>Adult (18-30)</th>\n",
       "      <td>43.19</td>\n",
       "      <td>56.81</td>\n",
       "    </tr>\n",
       "    <tr>\n",
       "      <th>Middle Age (31-50)</th>\n",
       "      <td>45.57</td>\n",
       "      <td>54.43</td>\n",
       "    </tr>\n",
       "    <tr>\n",
       "      <th>Senior (51-74)</th>\n",
       "      <td>58.77</td>\n",
       "      <td>41.23</td>\n",
       "    </tr>\n",
       "    <tr>\n",
       "      <th>All</th>\n",
       "      <td>49.66</td>\n",
       "      <td>50.34</td>\n",
       "    </tr>\n",
       "  </tbody>\n",
       "</table>\n",
       "</div>"
      ],
      "text/plain": [
       "MeatSpent           Higher Spent  Lower Spent\n",
       "CustomerAge                                  \n",
       "Adult (18-30)              43.19        56.81\n",
       "Middle Age (31-50)         45.57        54.43\n",
       "Senior (51-74)             58.77        41.23\n",
       "All                        49.66        50.34"
      ]
     },
     "execution_count": 178,
     "metadata": {},
     "output_type": "execute_result"
    }
   ],
   "source": [
    "(pd.crosstab(index=df['CustomerAge'], columns=df['MeatSpent'], normalize='index', margins=True)*100).round(2)"
   ]
  },
  {
   "cell_type": "markdown",
   "metadata": {},
   "source": [
    "Insight :\n",
    "\n",
    "Dapat dilihat dari kelompok umur bahwa senior age memiliki potensi karena  memiliki higher spent yang besar pada pembelian daging\n",
    "\n",
    "Recomendation:\n",
    "\n",
    "Dikutip dari foodmanufacture.co.uk di toko-toko negara eropa sudah banyak menjual daging halal, sehingga tim marketing dapat memasarkan produk daging halal seperti daging sapi, kambing, atau domba di daerah yang banyak penduduk muslim jika toko terletak di negara barat atau eropa. \n",
    "Hal ini dikarenakan menurut penelitian yang dilakukan oleh Luis Guerrero di IRTA Monells, produksi daging sapi di negara maju jauh lebih rendah dibandingkan negara berkembang yang menyebabkan tingginya demand warga muslim terhadap daging halal. sehingga tim marketing dapat memberikan brosur terkait penjualan daging halal pada Customer terutama yang termasuk kategori umur senior age.\n",
    "\n",
    "Source :\n",
    "https://www.foodmanufacture.co.uk/Article/2016/06/17/Halal-range-launches-with-16-lines-on-Amazon-Fresh#:~:text=Meanwhile%2C%20the%20halal%20brand%2C%20whose,range%20lamb%20and%20beef%20cuts.\n",
    "\n",
    "Font-i-Furnols, M. and Guerrero, L., 2014. Consumer preference, behavior and perception about meat and meat products: An overview. Meat science, 98(3), pp.361-371."
   ]
  },
  {
   "cell_type": "code",
   "execution_count": null,
   "metadata": {},
   "outputs": [
    {
     "data": {
      "image/png": "[encoded data removed]",
      "text/plain": [
       "<Figure size 432x288 with 1 Axes>"
      ]
     },
     "metadata": {
      "needs_background": "light"
     },
     "output_type": "display_data"
    }
   ],
   "source": [
    "sns.boxplot(x=df['Marital_Status'],y=df['MntMeatProducts'])\n",
    "plt.xlabel('Marital Status')\n",
    "plt.ylabel('Amount Spent on Meat')\n",
    "plt.show()"
   ]
  },
  {
   "cell_type": "code",
   "execution_count": null,
   "metadata": {},
   "outputs": [
    {
     "name": "stdout",
     "output_type": "stream",
     "text": [
      "Terima H0\n"
     ]
    }
   ],
   "source": [
    "fval, pval = mannwhitneyu(\n",
    "    df[df['Marital_Status']=='Alone']['MntMeatProducts'],\n",
    "    df[df['Marital_Status']=='Couple']['MntMeatProducts']\n",
    "    )\n",
    "\n",
    "if pval < 0.05:\n",
    "    print('Tolak H0')\n",
    "else:\n",
    "    print('Terima H0')\n",
    "\n",
    "# Karena Pvalue < 0.05 sehingga tidak ada perbedaan signifikan marital status terhadap spent pada item daging sehingga tidak perlu dianalisis lebih dalam"
   ]
  },
  {
   "cell_type": "markdown",
   "metadata": {},
   "source": [
    "#### 5. Item emas cocok untuk customer yang seperti apa? "
   ]
  },
  {
   "cell_type": "code",
   "execution_count": null,
   "metadata": {},
   "outputs": [
    {
     "data": {
      "image/png": "[encoded data removed]",
      "text/plain": [
       "<Figure size 432x288 with 1 Axes>"
      ]
     },
     "metadata": {
      "needs_background": "light"
     },
     "output_type": "display_data"
    }
   ],
   "source": [
    "# Dapat dilihat bahwa boxplot TIDAK terdistribusi normal \n",
    "sns.boxplot(x=df['CustomerAge'],y=df['MntGoldProds'])\n",
    "plt.xlabel('Customer Age')\n",
    "plt.ylabel('Amount Spent on Gold')\n",
    "plt.show()"
   ]
  },
  {
   "cell_type": "code",
   "execution_count": null,
   "metadata": {},
   "outputs": [
    {
     "name": "stdout",
     "output_type": "stream",
     "text": [
      "Tolak H0\n"
     ]
    }
   ],
   "source": [
    "# Menggunakan Kruska Wallis karena data tidak terdistribusi normal dan lebih dari 2 grup\n",
    "fval, pval = kruskal(\n",
    "    df[df['CustomerAge']=='Adult (18-30)']['MntGoldProds'],\n",
    "    df[df['CustomerAge']=='Middle Age (31-50)']['MntGoldProds'],\n",
    "    df[df['CustomerAge']=='Senior (51-74)']['MntGoldProds']\n",
    "    )\n",
    "\n",
    "if pval < 0.05:\n",
    "    print('Tolak H0')\n",
    "else:\n",
    "    print('Terima H0')\n",
    "\n",
    "# Secara statistik terdapat perbedaan yang signifikan dari spent pada emas berdasarkan kelompok usia sehingga perlu dianalisa lebih dalam"
   ]
  },
  {
   "cell_type": "code",
   "execution_count": null,
   "metadata": {},
   "outputs": [
    {
     "data": {
      "text/html": [
       "<div>\n",
       "<style scoped>\n",
       "    .dataframe tbody tr th:only-of-type {\n",
       "        vertical-align: middle;\n",
       "    }\n",
       "\n",
       "    .dataframe tbody tr th {\n",
       "        vertical-align: top;\n",
       "    }\n",
       "\n",
       "    .dataframe thead th {\n",
       "        text-align: right;\n",
       "    }\n",
       "</style>\n",
       "<table border=\"1\" class=\"dataframe\">\n",
       "  <thead>\n",
       "    <tr style=\"text-align: right;\">\n",
       "      <th>GoldSpent</th>\n",
       "      <th>Higher Spent</th>\n",
       "      <th>Lower Spent</th>\n",
       "    </tr>\n",
       "    <tr>\n",
       "      <th>CustomerAge</th>\n",
       "      <th></th>\n",
       "      <th></th>\n",
       "    </tr>\n",
       "  </thead>\n",
       "  <tbody>\n",
       "    <tr>\n",
       "      <th>Adult (18-30)</th>\n",
       "      <td>47.86</td>\n",
       "      <td>52.14</td>\n",
       "    </tr>\n",
       "    <tr>\n",
       "      <th>Middle Age (31-50)</th>\n",
       "      <td>45.89</td>\n",
       "      <td>54.11</td>\n",
       "    </tr>\n",
       "    <tr>\n",
       "      <th>Senior (51-74)</th>\n",
       "      <td>56.03</td>\n",
       "      <td>43.97</td>\n",
       "    </tr>\n",
       "    <tr>\n",
       "      <th>All</th>\n",
       "      <td>49.48</td>\n",
       "      <td>50.52</td>\n",
       "    </tr>\n",
       "  </tbody>\n",
       "</table>\n",
       "</div>"
      ],
      "text/plain": [
       "GoldSpent           Higher Spent  Lower Spent\n",
       "CustomerAge                                  \n",
       "Adult (18-30)              47.86        52.14\n",
       "Middle Age (31-50)         45.89        54.11\n",
       "Senior (51-74)             56.03        43.97\n",
       "All                        49.48        50.52"
      ]
     },
     "execution_count": 183,
     "metadata": {},
     "output_type": "execute_result"
    }
   ],
   "source": [
    "(pd.crosstab(index=df['CustomerAge'], columns=df['GoldSpent'], normalize='index', margins=True)*100).round(2)\n"
   ]
  },
  {
   "cell_type": "markdown",
   "metadata": {},
   "source": [
    "Insight :\n",
    "\n",
    "Dapat dilihat dari kelompok umur bahwa senior age memiliki potensi karena  memiliki higher spent yang besar pada pembelian emas.\n",
    "\n",
    "Banyak nya pembeli emas pada senior age dapat dikarenakan emas merupakan investasi yang paling aman di berbagai kondisi krisis ekonomi seperti yang terjadi pada tahun 1998 dan tahun 2008.\n",
    "\n",
    "Source:\n",
    "https://www.cnbc.com/id/38961269\n",
    "\n",
    "Recomendation :\n",
    "\n",
    "Tim marketing dapat memberikan campaign bahwa emas yang dibeli melalui toko ini nantinya dapat juga digunakan untuk pembelian produk lain yang tersedia di toko ini, sehingga dapat menaikkan minat customer untuk membeli emas dan pembelian jenis produk lainnya di toko ini. \n",
    "Tim marketing juga dapat memberikan semacam undian, dimana pada pembelian item tertentu dengan minimal belanja, pembeli dapat memiliki kesempatan mendapatkan hadiah emas. Sehingga cara ini dapat membuat customer sering melakukan pengecekan item mana yang berhadiah emas.\n",
    "Seperti pada analisis sebelumnya karena wine dan daging banyak disukai oleh customer senior age maka tim marketing dapat memberikan campaign undian pada item tersebut.\n",
    "\n",
    "Source : \n",
    "https://hypeinsight.com/leveraging-gold-as-an-investment-in-your-marketing-campaigns/\n"
   ]
  },
  {
   "cell_type": "code",
   "execution_count": null,
   "metadata": {},
   "outputs": [
    {
     "data": {
      "image/png": "[encoded data removed]",
      "text/plain": [
       "<Figure size 432x288 with 1 Axes>"
      ]
     },
     "metadata": {
      "needs_background": "light"
     },
     "output_type": "display_data"
    }
   ],
   "source": [
    "# Dapat dilihat bahwa boxplot TIDAK terdistribusi normal \n",
    "sns.boxplot(x=df['Marital_Status'],y=df[\"MntGoldProds\"])\n",
    "plt.xlabel('Marital Status')\n",
    "plt.ylabel('Amount Spent on Gold')\n",
    "plt.show()"
   ]
  },
  {
   "cell_type": "code",
   "execution_count": null,
   "metadata": {},
   "outputs": [
    {
     "name": "stdout",
     "output_type": "stream",
     "text": [
      "Terima H0\n"
     ]
    }
   ],
   "source": [
    "fval, pval = mannwhitneyu(\n",
    "    df[df['Marital_Status']=='Alone']['MntGoldProds'],\n",
    "    df[df['Marital_Status']=='Couple']['MntGoldProds']\n",
    "    )\n",
    "\n",
    "if pval < 0.05:\n",
    "    print('Tolak H0')\n",
    "else:\n",
    "    print('Terima H0')\n",
    "\n",
    "# Karena Pvalue < 0.005 sehingga tidak ada perbedaan signifikan marital status terhadap spent pada item emas sehingga tidak perlu dianalisis lebih dalam"
   ]
  },
  {
   "cell_type": "markdown",
   "metadata": {},
   "source": [
    "#### 6. Item buah cocok untuk customer yang seperti apa?"
   ]
  },
  {
   "cell_type": "code",
   "execution_count": null,
   "metadata": {},
   "outputs": [
    {
     "data": {
      "image/png": "[encoded data removed]",
      "text/plain": [
       "<Figure size 432x288 with 1 Axes>"
      ]
     },
     "metadata": {
      "needs_background": "light"
     },
     "output_type": "display_data"
    }
   ],
   "source": [
    "# Data TIDAK terdistribusi normal\n",
    "sns.boxplot(x=df['CustomerAge'],y=df['MntFruits'])\n",
    "plt.xlabel('Customer Age')\n",
    "plt.ylabel('Amount Spent on Fruits')\n",
    "plt.show()"
   ]
  },
  {
   "cell_type": "code",
   "execution_count": null,
   "metadata": {},
   "outputs": [
    {
     "name": "stdout",
     "output_type": "stream",
     "text": [
      "Tolak H0\n"
     ]
    }
   ],
   "source": [
    "# Menggunakan Kruska Wallis karena data tidak terdistribusi normal dan lebih dari 2 grup\n",
    "fval, pval = kruskal(\n",
    "    df[df['CustomerAge']=='Adult (18-30)']['MntFruits'],\n",
    "    df[df['CustomerAge']=='Middle Age (31-50)']['MntFruits'],\n",
    "    df[df['CustomerAge']=='Senior (51-74)']['MntFruits']\n",
    "    )\n",
    "\n",
    "if pval < 0.05:\n",
    "    print('Tolak H0')\n",
    "else:\n",
    "    print('Terima H0')\n",
    "\n",
    "# Secara statistik terdapat perbedaan yang signifikan dari spent pada buah berdasarkan kelompok usia sehingga perlu dianalisa lebih dalam"
   ]
  },
  {
   "cell_type": "code",
   "execution_count": null,
   "metadata": {},
   "outputs": [
    {
     "data": {
      "text/html": [
       "<div>\n",
       "<style scoped>\n",
       "    .dataframe tbody tr th:only-of-type {\n",
       "        vertical-align: middle;\n",
       "    }\n",
       "\n",
       "    .dataframe tbody tr th {\n",
       "        vertical-align: top;\n",
       "    }\n",
       "\n",
       "    .dataframe thead th {\n",
       "        text-align: right;\n",
       "    }\n",
       "</style>\n",
       "<table border=\"1\" class=\"dataframe\">\n",
       "  <thead>\n",
       "    <tr style=\"text-align: right;\">\n",
       "      <th>FruitSpent</th>\n",
       "      <th>Higher Spent</th>\n",
       "      <th>Lower Spent</th>\n",
       "    </tr>\n",
       "    <tr>\n",
       "      <th>CustomerAge</th>\n",
       "      <th></th>\n",
       "      <th></th>\n",
       "    </tr>\n",
       "  </thead>\n",
       "  <tbody>\n",
       "    <tr>\n",
       "      <th>Adult (18-30)</th>\n",
       "      <td>50.19</td>\n",
       "      <td>49.81</td>\n",
       "    </tr>\n",
       "    <tr>\n",
       "      <th>Middle Age (31-50)</th>\n",
       "      <td>44.66</td>\n",
       "      <td>55.34</td>\n",
       "    </tr>\n",
       "    <tr>\n",
       "      <th>Senior (51-74)</th>\n",
       "      <td>56.44</td>\n",
       "      <td>43.56</td>\n",
       "    </tr>\n",
       "    <tr>\n",
       "      <th>All</th>\n",
       "      <td>49.21</td>\n",
       "      <td>50.79</td>\n",
       "    </tr>\n",
       "  </tbody>\n",
       "</table>\n",
       "</div>"
      ],
      "text/plain": [
       "FruitSpent          Higher Spent  Lower Spent\n",
       "CustomerAge                                  \n",
       "Adult (18-30)              50.19        49.81\n",
       "Middle Age (31-50)         44.66        55.34\n",
       "Senior (51-74)             56.44        43.56\n",
       "All                        49.21        50.79"
      ]
     },
     "execution_count": 188,
     "metadata": {},
     "output_type": "execute_result"
    }
   ],
   "source": [
    "(pd.crosstab(index=df['CustomerAge'], columns=df['FruitSpent'], normalize='index', margins=True)*100).round(2)"
   ]
  },
  {
   "cell_type": "markdown",
   "metadata": {},
   "source": [
    "Insight :\n",
    "\n",
    "Dapat dilihat dari kelompok umur bahwa senior age memiliki potensi karena  memiliki higher spent yang besar pada pembelian item jenis buah.\n",
    "\n",
    "Banyaknya customer senior membeli buah karena dikutip dari nidirect.gov.uk bahwa semakin bertambahnya usia maka metabolisme makin berkurang sehingga dianjurkan untuk memakan makanan yang rendah kalori dan tinggi nutrisi seperti buah.\n",
    "\n",
    "Source :\n",
    "https://www.nidirect.gov.uk/articles/healthy-eating-older-adults#:~:text=Eating%20five%20or%20more%20portions,and%20are%20low%20in%20fat.\n",
    "\n",
    "Recomendation :\n",
    "\n",
    "Tim marketing dapat menampilkan detail dari kandungan kalori dan nutrisi serta manfaat dari buah tersebut. Detail terkait buah dapat ditaruh di samping buah.\n",
    "\n",
    "Kurangnya pengetahuan dalam mengolah buah untuk dimasak dapat dimanfaatkan tim marketing dengan membuat kelas memasak saat weekdays bagi customer senior age seperti membuat salad atau jus. Hal ini dikarenakan senior age banyak menghabiskan waktu bersama keluarga sehingga pengetahuan memasak dapat diimplementasikan saat berkumpul bersama keluarga.\n",
    "\n",
    "Tim marketing juga mempromosikan bahwa buah segar yang digunakan pada kelas memasak tersedia di toko ini.\n",
    "\n",
    "Source :\n",
    "https://smallbusiness.chron.com/benefits-driedfish-retailing-16080.html\n"
   ]
  },
  {
   "cell_type": "code",
   "execution_count": null,
   "metadata": {},
   "outputs": [
    {
     "data": {
      "image/png": "[encoded data removed]",
      "text/plain": [
       "<Figure size 432x288 with 1 Axes>"
      ]
     },
     "metadata": {
      "needs_background": "light"
     },
     "output_type": "display_data"
    }
   ],
   "source": [
    "sns.boxplot(x=df['Marital_Status'],y=df['MntFruits'])\n",
    "plt.xlabel('Marital Status')\n",
    "plt.ylabel('Amount Spent on Fruits')\n",
    "plt.show()"
   ]
  },
  {
   "cell_type": "code",
   "execution_count": null,
   "metadata": {},
   "outputs": [
    {
     "name": "stdout",
     "output_type": "stream",
     "text": [
      "Terima H0\n"
     ]
    }
   ],
   "source": [
    "fval, pval = mannwhitneyu(\n",
    "    df[df['Marital_Status']=='Alone']['MntFruits'],\n",
    "    df[df['Marital_Status']=='Couple']['MntFruits']\n",
    "    )\n",
    "\n",
    "if pval < 0.05:\n",
    "    print('Tolak H0')\n",
    "else:\n",
    "    print('Terima H0')\n",
    "\n",
    "# Karena Pvalue < 0.05 sehingga tidak ada perbedaan signifikan marital status terhadap spent pada item buah sehingga tidak perlu dianalisis lebih dalam"
   ]
  },
  {
   "cell_type": "markdown",
   "metadata": {},
   "source": [
    "#### 7. Item ikan cocok untuk customer yang seperti apa?"
   ]
  },
  {
   "cell_type": "code",
   "execution_count": null,
   "metadata": {},
   "outputs": [
    {
     "data": {
      "image/png": "[encoded data removed]",
      "text/plain": [
       "<Figure size 432x288 with 1 Axes>"
      ]
     },
     "metadata": {
      "needs_background": "light"
     },
     "output_type": "display_data"
    }
   ],
   "source": [
    "# Data TIDAK terdistribusi normal\n",
    "sns.boxplot(x=df['CustomerAge'],y=df['MntFishProducts'])\n",
    "plt.xlabel('Customer Age')\n",
    "plt.ylabel('Amount Spent on Fish')\n",
    "plt.show()"
   ]
  },
  {
   "cell_type": "code",
   "execution_count": null,
   "metadata": {},
   "outputs": [
    {
     "name": "stdout",
     "output_type": "stream",
     "text": [
      "Tolak H0\n"
     ]
    }
   ],
   "source": [
    "# Menggunakan Kruska Wallis karena data tidak terdistribusi normal dan lebih dari 2 grup\n",
    "fval, pval = kruskal(\n",
    "    df[df['CustomerAge']=='Adult (18-30)']['MntFishProducts'],\n",
    "    df[df['CustomerAge']=='Middle Age (31-50)']['MntFishProducts'],\n",
    "    df[df['CustomerAge']=='Senior (51-74)']['MntFishProducts']\n",
    "    )\n",
    "\n",
    "if pval < 0.05:\n",
    "    print('Tolak H0')\n",
    "else:\n",
    "    print('Terima H0')\n",
    "\n",
    "# Secara statistik terdapat perbedaan yang signifikan dari spent pada ikan berdasarkan kelompok usia sehingga perlu dianalisa lebih dalam"
   ]
  },
  {
   "cell_type": "code",
   "execution_count": null,
   "metadata": {},
   "outputs": [
    {
     "data": {
      "text/html": [
       "<div>\n",
       "<style scoped>\n",
       "    .dataframe tbody tr th:only-of-type {\n",
       "        vertical-align: middle;\n",
       "    }\n",
       "\n",
       "    .dataframe tbody tr th {\n",
       "        vertical-align: top;\n",
       "    }\n",
       "\n",
       "    .dataframe thead th {\n",
       "        text-align: right;\n",
       "    }\n",
       "</style>\n",
       "<table border=\"1\" class=\"dataframe\">\n",
       "  <thead>\n",
       "    <tr style=\"text-align: right;\">\n",
       "      <th>FishSpent</th>\n",
       "      <th>Higher Spent</th>\n",
       "      <th>Lower Spent</th>\n",
       "    </tr>\n",
       "    <tr>\n",
       "      <th>CustomerAge</th>\n",
       "      <th></th>\n",
       "      <th></th>\n",
       "    </tr>\n",
       "  </thead>\n",
       "  <tbody>\n",
       "    <tr>\n",
       "      <th>Adult (18-30)</th>\n",
       "      <td>51.75</td>\n",
       "      <td>48.25</td>\n",
       "    </tr>\n",
       "    <tr>\n",
       "      <th>Middle Age (31-50)</th>\n",
       "      <td>44.83</td>\n",
       "      <td>55.17</td>\n",
       "    </tr>\n",
       "    <tr>\n",
       "      <th>Senior (51-74)</th>\n",
       "      <td>55.75</td>\n",
       "      <td>44.25</td>\n",
       "    </tr>\n",
       "    <tr>\n",
       "      <th>All</th>\n",
       "      <td>49.25</td>\n",
       "      <td>50.75</td>\n",
       "    </tr>\n",
       "  </tbody>\n",
       "</table>\n",
       "</div>"
      ],
      "text/plain": [
       "FishSpent           Higher Spent  Lower Spent\n",
       "CustomerAge                                  \n",
       "Adult (18-30)              51.75        48.25\n",
       "Middle Age (31-50)         44.83        55.17\n",
       "Senior (51-74)             55.75        44.25\n",
       "All                        49.25        50.75"
      ]
     },
     "execution_count": 193,
     "metadata": {},
     "output_type": "execute_result"
    }
   ],
   "source": [
    "(pd.crosstab(index=df['CustomerAge'], columns=df['FishSpent'], normalize='index', margins=True)*100).round(2)"
   ]
  },
  {
   "cell_type": "markdown",
   "metadata": {},
   "source": [
    "Insight :\n",
    "\n",
    "Dapat dilihat dari kelompok umur bahwa adult dan senior age memiliki potensi karena  memiliki higher spent yang besar pada pembelian item jenis ikan.\n",
    "\n",
    "Dikutip dari maplewoodseniorlivin.com banyaknya orang di usia senja mengonsumsi ikan dikarenakan banyaknya terkandung asam lemak omega 3 yang berkhasiat untuk mengurangi peradangan sendi, mengurangi risiko depresi, ADHD, serta diabetes.\n",
    "\n",
    "Source :\n",
    "https://www.maplewoodseniorliving.com/blog/how-eating-fish-keeps-seniors-healthy-maplewood/#:~:text=Fish%20Help%20You%20Have%20a%20Healthy%20Heart&text=These%20omega%2D3%20fatty%20acids,types%20of%20dementia%2C%20and%20diabetes.\n",
    "\n",
    "Recomendation :\n",
    "\n",
    "Tim marketing dapat mengadakan festival seafood seperti THE DORSET SEAFOOD FESTIVAL di UK dengan mengundang chef terkenal untuk merepresentasikan masakan berbahan ikan, acara musik, dan tempat bersantai yang nyaman sebagai daya tarik pengunjung. Pada festival tersebut, tim marketing dapat menyampaikan bahwa Ikan segar yang digunakan tersedia di toko ini.\n",
    "\n",
    "Source :\n",
    "https://www.dorsetseafood.co.uk/News/82/SEAFEAST_%E2%80%93_The_Dorset_Seafood_Festival/\n"
   ]
  },
  {
   "cell_type": "code",
   "execution_count": null,
   "metadata": {},
   "outputs": [
    {
     "data": {
      "image/png": "[encoded data removed]",
      "text/plain": [
       "<Figure size 432x288 with 1 Axes>"
      ]
     },
     "metadata": {
      "needs_background": "light"
     },
     "output_type": "display_data"
    }
   ],
   "source": [
    "sns.boxplot(x=df['CustomerAge'],y=df['MntFishProducts'])\n",
    "plt.xlabel('Marital Status')\n",
    "plt.ylabel('Amount Spent on Fish')\n",
    "plt.show()"
   ]
  },
  {
   "cell_type": "code",
   "execution_count": null,
   "metadata": {},
   "outputs": [
    {
     "name": "stdout",
     "output_type": "stream",
     "text": [
      "Terima H0\n"
     ]
    }
   ],
   "source": [
    "fval, pval = mannwhitneyu(\n",
    "    df[df['Marital_Status']=='Alone']['MntFishProducts'],\n",
    "    df[df['Marital_Status']=='Couple']['MntFishProducts']\n",
    "    )\n",
    "\n",
    "if pval < 0.05:\n",
    "    print('Tolak H0')\n",
    "else:\n",
    "    print('Terima H0')\n",
    "\n",
    "# Karena Pvalue < 0.05 sehingga tidak ada perbedaan signifikan marital status terhadap spent pada item ikan sehingga tidak perlu dianalisis lebih dalam"
   ]
  },
  {
   "cell_type": "code",
   "execution_count": null,
   "metadata": {},
   "outputs": [],
   "source": [
    "# Menyimpan file untuk diolah pada tableau\n",
    "df.to_excel(\"marketing_campaign_updated.xlsx\")"
   ]
  }
 ],
 "metadata": {
  "kernelspec": {
   "display_name": "Python 3.8.8 64-bit",
   "language": "python",
   "name": "python3"
  },
  "language_info": {
   "codemirror_mode": {
    "name": "ipython",
    "version": 3
   },
   "file_extension": ".py",
   "mimetype": "text/x-python",
   "name": "python",
   "nbconvert_exporter": "python",
   "pygments_lexer": "ipython3",
   "version": "3.8.8"
  },
  "orig_nbformat": 4,
  "vscode": {
   "interpreter": {
    "hash": "16e2ba00ecb116d84d759c8994916476a1848709f6949da4f57d56b215b2db71"
   }
  }
 },
 "nbformat": 4,
 "nbformat_minor": 2
}
